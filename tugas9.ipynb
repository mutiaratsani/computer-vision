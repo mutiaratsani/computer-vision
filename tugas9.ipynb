{
  "nbformat": 4,
  "nbformat_minor": 0,
  "metadata": {
    "colab": {
      "name": "create_cnn_make_model.ipynb",
      "provenance": [],
      "collapsed_sections": [],
      "include_colab_link": true
    },
    "kernelspec": {
      "name": "python3",
      "display_name": "Python 3"
    },
    "language_info": {
      "name": "python"
    }
  },
  "cells": [
    {
      "cell_type": "markdown",
      "metadata": {
        "id": "view-in-github",
        "colab_type": "text"
      },
      "source": [
        "<a href=\"https://colab.research.google.com/github/mutiaratsani/computer-vision/blob/main/tugas9.ipynb\" target=\"_parent\"><img src=\"https://colab.research.google.com/assets/colab-badge.svg\" alt=\"Open In Colab\"/></a>"
      ]
    },
    {
      "cell_type": "code",
      "execution_count": 1,
      "metadata": {
        "id": "6AlhDL6YiaPq"
      },
      "outputs": [],
      "source": [
        "from sklearn.model_selection import train_test_split\n",
        "from sklearn.preprocessing import LabelEncoder\n",
        "from sklearn.metrics import classification_report\n",
        "from tensorflow.keras.models import Sequential\n",
        "from tensorflow.keras.layers import Flatten, Dense\n",
        "from tensorflow.keras.optimizers import SGD\n",
        "import numpy as np\n",
        "import cv2\n",
        "import glob\n",
        "import matplotlib.pyplot as plt\n",
        "import zipfile"
      ]
    },
    {
      "cell_type": "code",
      "source": [
        "!wget --load-cookies /tmp/cookies.txt \"https://docs.google.com/uc?export=download&confirm=$(wget --quiet --save-cookies /tmp/cookies.txt --keep-session-cookies --no-check-certificate 'https://docs.google.com/uc?export=download&id=1IBYMjlHqVjSdXiOaINTB94N8MyQhn1bY' -O- | sed -rn 's/.confirm=([0-9A-Za-z_]+)./\\1\\n/p')&id=1IBYMjlHqVjSdXiOaINTB94N8MyQhn1bY\" -O /tmp/dataset.zip && rm -rf /tmp/cookies.txt"
      ],
      "metadata": {
        "colab": {
          "base_uri": "https://localhost:8080/"
        },
        "id": "8-YjqPPdm57P",
        "outputId": "165564c7-3a25-4ec1-f892-ce6ac16688dd"
      },
      "execution_count": 2,
      "outputs": [
        {
          "output_type": "stream",
          "name": "stdout",
          "text": [
            "--2022-01-26 15:17:02--  https://docs.google.com/uc?export=download&confirm=&id=1IBYMjlHqVjSdXiOaINTB94N8MyQhn1bY\n",
            "Resolving docs.google.com (docs.google.com)... 64.233.188.138, 64.233.188.139, 64.233.188.101, ...\n",
            "Connecting to docs.google.com (docs.google.com)|64.233.188.138|:443... connected.\n",
            "HTTP request sent, awaiting response... 302 Moved Temporarily\n",
            "Location: https://doc-10-4o-docs.googleusercontent.com/docs/securesc/8k3nj6slg6dhnkaebl61754qeehilg8t/6o2akonj0td8kqdgdq5ic43u185bku5m/1643210175000/08585088723389417016/09491669568458555951Z/1IBYMjlHqVjSdXiOaINTB94N8MyQhn1bY?e=download [following]\n",
            "--2022-01-26 15:17:03--  https://doc-10-4o-docs.googleusercontent.com/docs/securesc/8k3nj6slg6dhnkaebl61754qeehilg8t/6o2akonj0td8kqdgdq5ic43u185bku5m/1643210175000/08585088723389417016/09491669568458555951Z/1IBYMjlHqVjSdXiOaINTB94N8MyQhn1bY?e=download\n",
            "Resolving doc-10-4o-docs.googleusercontent.com (doc-10-4o-docs.googleusercontent.com)... 108.177.97.132, 2404:6800:4008:c00::84\n",
            "Connecting to doc-10-4o-docs.googleusercontent.com (doc-10-4o-docs.googleusercontent.com)|108.177.97.132|:443... connected.\n",
            "HTTP request sent, awaiting response... 302 Found\n",
            "Location: https://docs.google.com/nonceSigner?nonce=s2n2kvhvmkv56&continue=https://doc-10-4o-docs.googleusercontent.com/docs/securesc/8k3nj6slg6dhnkaebl61754qeehilg8t/6o2akonj0td8kqdgdq5ic43u185bku5m/1643210175000/08585088723389417016/09491669568458555951Z/1IBYMjlHqVjSdXiOaINTB94N8MyQhn1bY?e%3Ddownload&hash=7btn09ul78fmdf48u94io603cc2qro49 [following]\n",
            "--2022-01-26 15:17:03--  https://docs.google.com/nonceSigner?nonce=s2n2kvhvmkv56&continue=https://doc-10-4o-docs.googleusercontent.com/docs/securesc/8k3nj6slg6dhnkaebl61754qeehilg8t/6o2akonj0td8kqdgdq5ic43u185bku5m/1643210175000/08585088723389417016/09491669568458555951Z/1IBYMjlHqVjSdXiOaINTB94N8MyQhn1bY?e%3Ddownload&hash=7btn09ul78fmdf48u94io603cc2qro49\n",
            "Connecting to docs.google.com (docs.google.com)|64.233.188.138|:443... connected.\n",
            "HTTP request sent, awaiting response... 302 Found\n",
            "Location: https://doc-10-4o-docs.googleusercontent.com/docs/securesc/8k3nj6slg6dhnkaebl61754qeehilg8t/6o2akonj0td8kqdgdq5ic43u185bku5m/1643210175000/08585088723389417016/09491669568458555951Z/1IBYMjlHqVjSdXiOaINTB94N8MyQhn1bY?e=download&nonce=s2n2kvhvmkv56&user=09491669568458555951Z&hash=hk04fdlj4neqb87307gu1afn4t8hpjs8 [following]\n",
            "--2022-01-26 15:17:03--  https://doc-10-4o-docs.googleusercontent.com/docs/securesc/8k3nj6slg6dhnkaebl61754qeehilg8t/6o2akonj0td8kqdgdq5ic43u185bku5m/1643210175000/08585088723389417016/09491669568458555951Z/1IBYMjlHqVjSdXiOaINTB94N8MyQhn1bY?e=download&nonce=s2n2kvhvmkv56&user=09491669568458555951Z&hash=hk04fdlj4neqb87307gu1afn4t8hpjs8\n",
            "Connecting to doc-10-4o-docs.googleusercontent.com (doc-10-4o-docs.googleusercontent.com)|108.177.97.132|:443... connected.\n",
            "HTTP request sent, awaiting response... 200 OK\n",
            "Length: 6418582 (6.1M) [application/x-zip-compressed]\n",
            "Saving to: ‘/tmp/dataset.zip’\n",
            "\n",
            "/tmp/dataset.zip    100%[===================>]   6.12M  --.-KB/s    in 0.02s   \n",
            "\n",
            "2022-01-26 15:17:04 (251 MB/s) - ‘/tmp/dataset.zip’ saved [6418582/6418582]\n",
            "\n"
          ]
        }
      ]
    },
    {
      "cell_type": "code",
      "source": [
        "local_zip = '/tmp/dataset.zip'\n",
        "zip_ref = zipfile.ZipFile(local_zip, 'r')\n",
        "zip_ref.extractall('/tmp')\n",
        "zip_ref.close()"
      ],
      "metadata": {
        "id": "N9PGdxVHnNzu"
      },
      "execution_count": 3,
      "outputs": []
    },
    {
      "cell_type": "code",
      "source": [
        "imagePaths = '/tmp/dataset/'\n",
        "label_list = ['agapornispersonata', 'agapornistaranta']\n",
        "data = []\n",
        "labels = []"
      ],
      "metadata": {
        "id": "pzCywf8xia6x"
      },
      "execution_count": 4,
      "outputs": []
    },
    {
      "cell_type": "code",
      "source": [
        "for label in label_list:\n",
        "    for imagePath in glob.glob(imagePaths+label+'/*.jpg'):\n",
        "        #print(imagePath)\n",
        "        image = cv2.imread(imagePath)\n",
        "        image = cv2.resize(image, (32, 32))\n",
        "        data.append(image)\n",
        "        labels.append(label)"
      ],
      "metadata": {
        "id": "hUR7B9JSicnO"
      },
      "execution_count": 5,
      "outputs": []
    },
    {
      "cell_type": "code",
      "source": [
        "np.array(data).shape"
      ],
      "metadata": {
        "colab": {
          "base_uri": "https://localhost:8080/"
        },
        "id": "XsB81I39ieCo",
        "outputId": "bf52c8d6-cc49-4270-e628-b526c60773ed"
      },
      "execution_count": 6,
      "outputs": [
        {
          "output_type": "execute_result",
          "data": {
            "text/plain": [
              "(98, 32, 32, 3)"
            ]
          },
          "metadata": {},
          "execution_count": 6
        }
      ]
    },
    {
      "cell_type": "code",
      "source": [
        "# ubah type data dari list menjadi array\n",
        "# ubah nilai dari tiap pixel menjadi range [0..1]\n",
        "data = np.array(data, dtype='float') / 255.0\n",
        "labels = np.array(labels)"
      ],
      "metadata": {
        "id": "cEtGsoJLifQ4"
      },
      "execution_count": 7,
      "outputs": []
    },
    {
      "cell_type": "code",
      "source": [
        "print(labels)"
      ],
      "metadata": {
        "colab": {
          "base_uri": "https://localhost:8080/"
        },
        "id": "11AWkIDaihB4",
        "outputId": "2aba111d-32df-4d9d-8e6f-9ba1d89eeddd"
      },
      "execution_count": 8,
      "outputs": [
        {
          "output_type": "stream",
          "name": "stdout",
          "text": [
            "['agapornispersonata' 'agapornispersonata' 'agapornispersonata'\n",
            " 'agapornispersonata' 'agapornispersonata' 'agapornispersonata'\n",
            " 'agapornispersonata' 'agapornispersonata' 'agapornispersonata'\n",
            " 'agapornispersonata' 'agapornispersonata' 'agapornispersonata'\n",
            " 'agapornispersonata' 'agapornispersonata' 'agapornispersonata'\n",
            " 'agapornispersonata' 'agapornispersonata' 'agapornispersonata'\n",
            " 'agapornispersonata' 'agapornispersonata' 'agapornispersonata'\n",
            " 'agapornispersonata' 'agapornispersonata' 'agapornispersonata'\n",
            " 'agapornispersonata' 'agapornispersonata' 'agapornispersonata'\n",
            " 'agapornispersonata' 'agapornispersonata' 'agapornispersonata'\n",
            " 'agapornispersonata' 'agapornispersonata' 'agapornispersonata'\n",
            " 'agapornispersonata' 'agapornispersonata' 'agapornispersonata'\n",
            " 'agapornispersonata' 'agapornispersonata' 'agapornispersonata'\n",
            " 'agapornispersonata' 'agapornispersonata' 'agapornispersonata'\n",
            " 'agapornispersonata' 'agapornispersonata' 'agapornispersonata'\n",
            " 'agapornispersonata' 'agapornispersonata' 'agapornispersonata'\n",
            " 'agapornispersonata' 'agapornistaranta' 'agapornistaranta'\n",
            " 'agapornistaranta' 'agapornistaranta' 'agapornistaranta'\n",
            " 'agapornistaranta' 'agapornistaranta' 'agapornistaranta'\n",
            " 'agapornistaranta' 'agapornistaranta' 'agapornistaranta'\n",
            " 'agapornistaranta' 'agapornistaranta' 'agapornistaranta'\n",
            " 'agapornistaranta' 'agapornistaranta' 'agapornistaranta'\n",
            " 'agapornistaranta' 'agapornistaranta' 'agapornistaranta'\n",
            " 'agapornistaranta' 'agapornistaranta' 'agapornistaranta'\n",
            " 'agapornistaranta' 'agapornistaranta' 'agapornistaranta'\n",
            " 'agapornistaranta' 'agapornistaranta' 'agapornistaranta'\n",
            " 'agapornistaranta' 'agapornistaranta' 'agapornistaranta'\n",
            " 'agapornistaranta' 'agapornistaranta' 'agapornistaranta'\n",
            " 'agapornistaranta' 'agapornistaranta' 'agapornistaranta'\n",
            " 'agapornistaranta' 'agapornistaranta' 'agapornistaranta'\n",
            " 'agapornistaranta' 'agapornistaranta' 'agapornistaranta'\n",
            " 'agapornistaranta' 'agapornistaranta' 'agapornistaranta'\n",
            " 'agapornistaranta' 'agapornistaranta']\n"
          ]
        }
      ]
    },
    {
      "cell_type": "code",
      "source": [
        "# ubah nilai dari labels menjadi binary\n",
        "lb = LabelEncoder()\n",
        "labels = lb.fit_transform(labels)\n",
        "print(labels)"
      ],
      "metadata": {
        "colab": {
          "base_uri": "https://localhost:8080/"
        },
        "id": "P_sUE094ij2P",
        "outputId": "0f94b2e5-4a4f-4de2-8c16-5927dc495187"
      },
      "execution_count": 9,
      "outputs": [
        {
          "output_type": "stream",
          "name": "stdout",
          "text": [
            "[0 0 0 0 0 0 0 0 0 0 0 0 0 0 0 0 0 0 0 0 0 0 0 0 0 0 0 0 0 0 0 0 0 0 0 0 0\n",
            " 0 0 0 0 0 0 0 0 0 0 0 0 1 1 1 1 1 1 1 1 1 1 1 1 1 1 1 1 1 1 1 1 1 1 1 1 1\n",
            " 1 1 1 1 1 1 1 1 1 1 1 1 1 1 1 1 1 1 1 1 1 1 1 1]\n"
          ]
        }
      ]
    },
    {
      "cell_type": "code",
      "source": [
        "x_train, x_test, y_train, y_test = train_test_split(data, labels, test_size=0.2, random_state=42)"
      ],
      "metadata": {
        "id": "9eVxqYWuikbe"
      },
      "execution_count": 10,
      "outputs": []
    },
    {
      "cell_type": "code",
      "source": [
        "print('Ukuran data train =', x_train.shape)\n",
        "print('Ukuran data test =', x_test.shape)"
      ],
      "metadata": {
        "colab": {
          "base_uri": "https://localhost:8080/"
        },
        "id": "fVmxL7jWikg4",
        "outputId": "91cad98e-eacf-4e17-f170-d4921ea3ddd7"
      },
      "execution_count": 11,
      "outputs": [
        {
          "output_type": "stream",
          "name": "stdout",
          "text": [
            "Ukuran data train = (78, 32, 32, 3)\n",
            "Ukuran data test = (20, 32, 32, 3)\n"
          ]
        }
      ]
    },
    {
      "cell_type": "code",
      "source": [
        "model = Sequential()\n",
        "model.add(Flatten(input_shape=(32,32,3)))\n",
        "model.add(Dense(1024, activation=\"relu\"))\n",
        "model.add(Dense(1024, activation=\"relu\"))\n",
        "model.add(Dense(1, activation=\"sigmoid\"))"
      ],
      "metadata": {
        "id": "R2YMijrainqB"
      },
      "execution_count": 12,
      "outputs": []
    },
    {
      "cell_type": "code",
      "source": [
        "model.summary()"
      ],
      "metadata": {
        "colab": {
          "base_uri": "https://localhost:8080/"
        },
        "id": "AiUNddRLiptp",
        "outputId": "2967bf41-c330-4064-a3e7-3901d62611e4"
      },
      "execution_count": 13,
      "outputs": [
        {
          "output_type": "stream",
          "name": "stdout",
          "text": [
            "Model: \"sequential\"\n",
            "_________________________________________________________________\n",
            " Layer (type)                Output Shape              Param #   \n",
            "=================================================================\n",
            " flatten (Flatten)           (None, 3072)              0         \n",
            "                                                                 \n",
            " dense (Dense)               (None, 1024)              3146752   \n",
            "                                                                 \n",
            " dense_1 (Dense)             (None, 1024)              1049600   \n",
            "                                                                 \n",
            " dense_2 (Dense)             (None, 1)                 1025      \n",
            "                                                                 \n",
            "=================================================================\n",
            "Total params: 4,197,377\n",
            "Trainable params: 4,197,377\n",
            "Non-trainable params: 0\n",
            "_________________________________________________________________\n"
          ]
        }
      ]
    },
    {
      "cell_type": "code",
      "source": [
        "# tentukan hyperparameter\n",
        "lr = 0.01\n",
        "max_epochs = 100\n",
        "opt_funct = SGD(learning_rate=lr)"
      ],
      "metadata": {
        "id": "_CAaaSO3irHp"
      },
      "execution_count": 14,
      "outputs": []
    },
    {
      "cell_type": "code",
      "source": [
        "# compile arsitektur yang telah dibuat\n",
        "model.compile(loss = 'binary_crossentropy', \n",
        "              optimizer = opt_funct, \n",
        "              metrics = ['accuracy'])"
      ],
      "metadata": {
        "id": "6Q4iWoGjisc_"
      },
      "execution_count": 15,
      "outputs": []
    },
    {
      "cell_type": "code",
      "source": [
        "H = model.fit(x_train, y_train, validation_data=(x_test, y_test), \n",
        "          epochs=max_epochs, batch_size=32)"
      ],
      "metadata": {
        "colab": {
          "base_uri": "https://localhost:8080/"
        },
        "id": "EB2ZH-2SitzR",
        "outputId": "e6c86bad-f6fd-4115-c390-0f45f2fedddf"
      },
      "execution_count": 16,
      "outputs": [
        {
          "output_type": "stream",
          "name": "stdout",
          "text": [
            "Epoch 1/100\n",
            "3/3 [==============================] - 1s 124ms/step - loss: 0.7180 - accuracy: 0.4872 - val_loss: 0.6515 - val_accuracy: 0.6000\n",
            "Epoch 2/100\n",
            "3/3 [==============================] - 0s 36ms/step - loss: 0.6896 - accuracy: 0.5641 - val_loss: 0.6763 - val_accuracy: 0.6000\n",
            "Epoch 3/100\n",
            "3/3 [==============================] - 0s 43ms/step - loss: 0.6591 - accuracy: 0.5385 - val_loss: 0.6935 - val_accuracy: 0.5500\n",
            "Epoch 4/100\n",
            "3/3 [==============================] - 0s 44ms/step - loss: 0.6187 - accuracy: 0.6923 - val_loss: 0.9159 - val_accuracy: 0.4000\n",
            "Epoch 5/100\n",
            "3/3 [==============================] - 0s 42ms/step - loss: 0.6235 - accuracy: 0.6026 - val_loss: 0.7295 - val_accuracy: 0.5000\n",
            "Epoch 6/100\n",
            "3/3 [==============================] - 0s 42ms/step - loss: 0.5884 - accuracy: 0.7308 - val_loss: 0.9755 - val_accuracy: 0.4000\n",
            "Epoch 7/100\n",
            "3/3 [==============================] - 0s 37ms/step - loss: 0.6537 - accuracy: 0.6154 - val_loss: 0.6181 - val_accuracy: 0.8000\n",
            "Epoch 8/100\n",
            "3/3 [==============================] - 0s 35ms/step - loss: 0.5632 - accuracy: 0.7308 - val_loss: 0.6787 - val_accuracy: 0.5500\n",
            "Epoch 9/100\n",
            "3/3 [==============================] - 0s 36ms/step - loss: 0.6133 - accuracy: 0.6410 - val_loss: 0.6204 - val_accuracy: 0.7000\n",
            "Epoch 10/100\n",
            "3/3 [==============================] - 0s 36ms/step - loss: 0.5708 - accuracy: 0.6795 - val_loss: 0.7326 - val_accuracy: 0.5000\n",
            "Epoch 11/100\n",
            "3/3 [==============================] - 0s 41ms/step - loss: 0.6008 - accuracy: 0.5641 - val_loss: 0.6366 - val_accuracy: 0.6500\n",
            "Epoch 12/100\n",
            "3/3 [==============================] - 0s 40ms/step - loss: 0.5186 - accuracy: 0.7821 - val_loss: 0.6267 - val_accuracy: 0.7000\n",
            "Epoch 13/100\n",
            "3/3 [==============================] - 0s 42ms/step - loss: 0.4833 - accuracy: 0.9231 - val_loss: 0.6508 - val_accuracy: 0.6000\n",
            "Epoch 14/100\n",
            "3/3 [==============================] - 0s 49ms/step - loss: 0.5014 - accuracy: 0.7821 - val_loss: 0.7421 - val_accuracy: 0.5000\n",
            "Epoch 15/100\n",
            "3/3 [==============================] - 0s 39ms/step - loss: 0.4696 - accuracy: 0.8718 - val_loss: 0.7454 - val_accuracy: 0.5000\n",
            "Epoch 16/100\n",
            "3/3 [==============================] - 0s 37ms/step - loss: 0.4710 - accuracy: 0.8590 - val_loss: 0.9040 - val_accuracy: 0.4500\n",
            "Epoch 17/100\n",
            "3/3 [==============================] - 0s 36ms/step - loss: 0.7649 - accuracy: 0.4103 - val_loss: 0.6604 - val_accuracy: 0.6000\n",
            "Epoch 18/100\n",
            "3/3 [==============================] - 0s 36ms/step - loss: 0.5111 - accuracy: 0.7692 - val_loss: 0.6393 - val_accuracy: 0.6500\n",
            "Epoch 19/100\n",
            "3/3 [==============================] - 0s 40ms/step - loss: 0.4583 - accuracy: 0.8718 - val_loss: 0.7359 - val_accuracy: 0.5000\n",
            "Epoch 20/100\n",
            "3/3 [==============================] - 0s 41ms/step - loss: 0.4255 - accuracy: 0.8974 - val_loss: 0.6667 - val_accuracy: 0.7000\n",
            "Epoch 21/100\n",
            "3/3 [==============================] - 0s 42ms/step - loss: 0.4298 - accuracy: 0.8718 - val_loss: 0.9529 - val_accuracy: 0.4500\n",
            "Epoch 22/100\n",
            "3/3 [==============================] - 0s 37ms/step - loss: 0.4683 - accuracy: 0.7949 - val_loss: 0.7231 - val_accuracy: 0.5000\n",
            "Epoch 23/100\n",
            "3/3 [==============================] - 0s 43ms/step - loss: 0.4057 - accuracy: 0.8718 - val_loss: 1.0902 - val_accuracy: 0.4000\n",
            "Epoch 24/100\n",
            "3/3 [==============================] - 0s 36ms/step - loss: 0.5331 - accuracy: 0.6795 - val_loss: 0.9919 - val_accuracy: 0.4500\n",
            "Epoch 25/100\n",
            "3/3 [==============================] - 0s 36ms/step - loss: 0.4200 - accuracy: 0.8333 - val_loss: 0.7642 - val_accuracy: 0.5000\n",
            "Epoch 26/100\n",
            "3/3 [==============================] - 0s 35ms/step - loss: 0.3778 - accuracy: 0.9359 - val_loss: 0.6673 - val_accuracy: 0.6500\n",
            "Epoch 27/100\n",
            "3/3 [==============================] - 0s 41ms/step - loss: 0.4192 - accuracy: 0.8718 - val_loss: 0.5863 - val_accuracy: 0.7000\n",
            "Epoch 28/100\n",
            "3/3 [==============================] - 0s 44ms/step - loss: 0.3530 - accuracy: 0.9359 - val_loss: 0.6170 - val_accuracy: 0.7000\n",
            "Epoch 29/100\n",
            "3/3 [==============================] - 0s 36ms/step - loss: 0.3463 - accuracy: 0.9487 - val_loss: 0.7902 - val_accuracy: 0.6500\n",
            "Epoch 30/100\n",
            "3/3 [==============================] - 0s 36ms/step - loss: 0.5745 - accuracy: 0.7051 - val_loss: 0.7388 - val_accuracy: 0.5000\n",
            "Epoch 31/100\n",
            "3/3 [==============================] - 0s 36ms/step - loss: 0.3606 - accuracy: 0.9103 - val_loss: 0.7277 - val_accuracy: 0.5000\n",
            "Epoch 32/100\n",
            "3/3 [==============================] - 0s 37ms/step - loss: 0.3363 - accuracy: 0.9487 - val_loss: 0.6799 - val_accuracy: 0.6000\n",
            "Epoch 33/100\n",
            "3/3 [==============================] - 0s 36ms/step - loss: 0.3164 - accuracy: 0.9744 - val_loss: 0.6083 - val_accuracy: 0.7000\n",
            "Epoch 34/100\n",
            "3/3 [==============================] - 0s 43ms/step - loss: 0.3123 - accuracy: 0.9744 - val_loss: 0.6385 - val_accuracy: 0.7000\n",
            "Epoch 35/100\n",
            "3/3 [==============================] - 0s 36ms/step - loss: 0.5780 - accuracy: 0.6154 - val_loss: 0.8785 - val_accuracy: 0.5000\n",
            "Epoch 36/100\n",
            "3/3 [==============================] - 0s 37ms/step - loss: 0.5320 - accuracy: 0.6538 - val_loss: 0.5824 - val_accuracy: 0.7500\n",
            "Epoch 37/100\n",
            "3/3 [==============================] - 0s 39ms/step - loss: 0.3091 - accuracy: 0.9744 - val_loss: 0.5847 - val_accuracy: 0.7500\n",
            "Epoch 38/100\n",
            "3/3 [==============================] - 0s 37ms/step - loss: 0.4320 - accuracy: 0.8333 - val_loss: 1.7417 - val_accuracy: 0.4000\n",
            "Epoch 39/100\n",
            "3/3 [==============================] - 0s 37ms/step - loss: 0.7618 - accuracy: 0.6410 - val_loss: 0.7914 - val_accuracy: 0.5000\n",
            "Epoch 40/100\n",
            "3/3 [==============================] - 0s 42ms/step - loss: 0.2973 - accuracy: 0.9615 - val_loss: 0.6783 - val_accuracy: 0.6000\n",
            "Epoch 41/100\n",
            "3/3 [==============================] - 0s 37ms/step - loss: 0.2817 - accuracy: 0.9744 - val_loss: 0.9891 - val_accuracy: 0.4500\n",
            "Epoch 42/100\n",
            "3/3 [==============================] - 0s 46ms/step - loss: 0.3197 - accuracy: 0.8974 - val_loss: 0.6343 - val_accuracy: 0.6500\n",
            "Epoch 43/100\n",
            "3/3 [==============================] - 0s 37ms/step - loss: 0.2696 - accuracy: 0.9872 - val_loss: 0.5978 - val_accuracy: 0.6500\n",
            "Epoch 44/100\n",
            "3/3 [==============================] - 0s 39ms/step - loss: 0.2636 - accuracy: 0.9615 - val_loss: 0.6583 - val_accuracy: 0.6500\n",
            "Epoch 45/100\n",
            "3/3 [==============================] - 0s 36ms/step - loss: 0.2463 - accuracy: 0.9872 - val_loss: 0.7491 - val_accuracy: 0.5000\n",
            "Epoch 46/100\n",
            "3/3 [==============================] - 0s 37ms/step - loss: 0.2534 - accuracy: 0.9359 - val_loss: 1.0145 - val_accuracy: 0.4500\n",
            "Epoch 47/100\n",
            "3/3 [==============================] - 0s 48ms/step - loss: 0.3244 - accuracy: 0.8590 - val_loss: 0.6019 - val_accuracy: 0.8000\n",
            "Epoch 48/100\n",
            "3/3 [==============================] - 0s 37ms/step - loss: 0.5071 - accuracy: 0.7308 - val_loss: 1.6443 - val_accuracy: 0.4000\n",
            "Epoch 49/100\n",
            "3/3 [==============================] - 0s 43ms/step - loss: 0.4393 - accuracy: 0.8333 - val_loss: 0.7328 - val_accuracy: 0.6000\n",
            "Epoch 50/100\n",
            "3/3 [==============================] - 0s 40ms/step - loss: 0.2357 - accuracy: 0.9744 - val_loss: 0.6960 - val_accuracy: 0.6500\n",
            "Epoch 51/100\n",
            "3/3 [==============================] - 0s 43ms/step - loss: 0.2289 - accuracy: 0.9744 - val_loss: 0.6540 - val_accuracy: 0.6500\n",
            "Epoch 52/100\n",
            "3/3 [==============================] - 0s 36ms/step - loss: 0.2138 - accuracy: 0.9872 - val_loss: 0.5918 - val_accuracy: 0.7000\n",
            "Epoch 53/100\n",
            "3/3 [==============================] - 0s 36ms/step - loss: 0.2648 - accuracy: 0.9487 - val_loss: 1.0078 - val_accuracy: 0.5000\n",
            "Epoch 54/100\n",
            "3/3 [==============================] - 0s 37ms/step - loss: 0.2949 - accuracy: 0.9231 - val_loss: 0.6090 - val_accuracy: 0.6500\n",
            "Epoch 55/100\n",
            "3/3 [==============================] - 0s 39ms/step - loss: 0.1988 - accuracy: 0.9872 - val_loss: 0.6619 - val_accuracy: 0.6500\n",
            "Epoch 56/100\n",
            "3/3 [==============================] - 0s 39ms/step - loss: 0.1935 - accuracy: 0.9872 - val_loss: 0.6253 - val_accuracy: 0.7000\n",
            "Epoch 57/100\n",
            "3/3 [==============================] - 0s 36ms/step - loss: 0.1930 - accuracy: 0.9872 - val_loss: 0.5985 - val_accuracy: 0.7500\n",
            "Epoch 58/100\n",
            "3/3 [==============================] - 0s 41ms/step - loss: 0.2221 - accuracy: 0.9615 - val_loss: 0.5981 - val_accuracy: 0.7000\n",
            "Epoch 59/100\n",
            "3/3 [==============================] - 0s 40ms/step - loss: 0.2004 - accuracy: 0.9615 - val_loss: 0.6014 - val_accuracy: 0.6500\n",
            "Epoch 60/100\n",
            "3/3 [==============================] - 0s 46ms/step - loss: 0.2006 - accuracy: 0.9744 - val_loss: 0.9009 - val_accuracy: 0.5000\n",
            "Epoch 61/100\n",
            "3/3 [==============================] - 0s 35ms/step - loss: 0.2051 - accuracy: 0.9872 - val_loss: 0.6111 - val_accuracy: 0.6500\n",
            "Epoch 62/100\n",
            "3/3 [==============================] - 0s 36ms/step - loss: 0.1876 - accuracy: 0.9872 - val_loss: 0.7197 - val_accuracy: 0.6500\n",
            "Epoch 63/100\n",
            "3/3 [==============================] - 0s 36ms/step - loss: 0.2030 - accuracy: 0.9744 - val_loss: 0.6012 - val_accuracy: 0.6500\n",
            "Epoch 64/100\n",
            "3/3 [==============================] - 0s 40ms/step - loss: 0.1648 - accuracy: 1.0000 - val_loss: 0.6062 - val_accuracy: 0.6500\n",
            "Epoch 65/100\n",
            "3/3 [==============================] - 0s 36ms/step - loss: 0.1611 - accuracy: 1.0000 - val_loss: 0.9369 - val_accuracy: 0.5000\n",
            "Epoch 66/100\n",
            "3/3 [==============================] - 0s 42ms/step - loss: 0.1649 - accuracy: 0.9744 - val_loss: 0.7767 - val_accuracy: 0.5500\n",
            "Epoch 67/100\n",
            "3/3 [==============================] - 0s 36ms/step - loss: 0.1613 - accuracy: 1.0000 - val_loss: 0.9288 - val_accuracy: 0.5000\n",
            "Epoch 68/100\n",
            "3/3 [==============================] - 0s 42ms/step - loss: 0.4686 - accuracy: 0.7949 - val_loss: 0.9682 - val_accuracy: 0.7000\n",
            "Epoch 69/100\n",
            "3/3 [==============================] - 0s 45ms/step - loss: 0.4981 - accuracy: 0.7308 - val_loss: 0.6799 - val_accuracy: 0.6500\n",
            "Epoch 70/100\n",
            "3/3 [==============================] - 0s 36ms/step - loss: 0.1492 - accuracy: 0.9872 - val_loss: 0.6346 - val_accuracy: 0.7000\n",
            "Epoch 71/100\n",
            "3/3 [==============================] - 0s 37ms/step - loss: 0.1438 - accuracy: 1.0000 - val_loss: 0.6132 - val_accuracy: 0.6500\n",
            "Epoch 72/100\n",
            "3/3 [==============================] - 0s 40ms/step - loss: 0.1689 - accuracy: 0.9872 - val_loss: 0.8293 - val_accuracy: 0.6000\n",
            "Epoch 73/100\n",
            "3/3 [==============================] - 0s 42ms/step - loss: 0.1470 - accuracy: 0.9872 - val_loss: 0.6106 - val_accuracy: 0.6500\n",
            "Epoch 74/100\n",
            "3/3 [==============================] - 0s 40ms/step - loss: 0.1520 - accuracy: 0.9744 - val_loss: 0.9516 - val_accuracy: 0.5500\n",
            "Epoch 75/100\n",
            "3/3 [==============================] - 0s 43ms/step - loss: 0.1563 - accuracy: 0.9744 - val_loss: 0.6165 - val_accuracy: 0.6500\n",
            "Epoch 76/100\n",
            "3/3 [==============================] - 0s 40ms/step - loss: 0.1386 - accuracy: 1.0000 - val_loss: 0.6157 - val_accuracy: 0.6500\n",
            "Epoch 77/100\n",
            "3/3 [==============================] - 0s 38ms/step - loss: 0.1788 - accuracy: 0.9872 - val_loss: 0.7356 - val_accuracy: 0.6500\n",
            "Epoch 78/100\n",
            "3/3 [==============================] - 0s 40ms/step - loss: 0.1260 - accuracy: 0.9872 - val_loss: 0.6736 - val_accuracy: 0.7000\n",
            "Epoch 79/100\n",
            "3/3 [==============================] - 0s 36ms/step - loss: 0.1190 - accuracy: 0.9872 - val_loss: 0.6471 - val_accuracy: 0.7500\n",
            "Epoch 80/100\n",
            "3/3 [==============================] - 0s 40ms/step - loss: 0.3901 - accuracy: 0.8333 - val_loss: 1.9755 - val_accuracy: 0.4500\n",
            "Epoch 81/100\n",
            "3/3 [==============================] - 0s 40ms/step - loss: 0.3075 - accuracy: 0.8718 - val_loss: 0.6450 - val_accuracy: 0.7500\n",
            "Epoch 82/100\n",
            "3/3 [==============================] - 0s 39ms/step - loss: 0.1901 - accuracy: 0.9615 - val_loss: 0.7159 - val_accuracy: 0.7000\n",
            "Epoch 83/100\n",
            "3/3 [==============================] - 0s 42ms/step - loss: 0.1124 - accuracy: 1.0000 - val_loss: 0.8548 - val_accuracy: 0.6000\n",
            "Epoch 84/100\n",
            "3/3 [==============================] - 0s 36ms/step - loss: 0.1264 - accuracy: 0.9872 - val_loss: 0.6593 - val_accuracy: 0.6500\n",
            "Epoch 85/100\n",
            "3/3 [==============================] - 0s 37ms/step - loss: 0.1079 - accuracy: 1.0000 - val_loss: 0.6319 - val_accuracy: 0.6500\n",
            "Epoch 86/100\n",
            "3/3 [==============================] - 0s 36ms/step - loss: 0.1363 - accuracy: 0.9872 - val_loss: 0.6823 - val_accuracy: 0.7000\n",
            "Epoch 87/100\n",
            "3/3 [==============================] - 0s 43ms/step - loss: 0.0977 - accuracy: 1.0000 - val_loss: 0.7585 - val_accuracy: 0.6500\n",
            "Epoch 88/100\n",
            "3/3 [==============================] - 0s 36ms/step - loss: 0.0967 - accuracy: 1.0000 - val_loss: 0.6716 - val_accuracy: 0.6500\n",
            "Epoch 89/100\n",
            "3/3 [==============================] - 0s 38ms/step - loss: 0.0960 - accuracy: 1.0000 - val_loss: 0.9956 - val_accuracy: 0.5500\n",
            "Epoch 90/100\n",
            "3/3 [==============================] - 0s 37ms/step - loss: 0.1123 - accuracy: 0.9744 - val_loss: 0.6887 - val_accuracy: 0.7000\n",
            "Epoch 91/100\n",
            "3/3 [==============================] - 0s 37ms/step - loss: 0.0904 - accuracy: 1.0000 - val_loss: 0.7121 - val_accuracy: 0.7000\n",
            "Epoch 92/100\n",
            "3/3 [==============================] - 0s 37ms/step - loss: 0.1257 - accuracy: 1.0000 - val_loss: 0.6530 - val_accuracy: 0.6500\n",
            "Epoch 93/100\n",
            "3/3 [==============================] - 0s 42ms/step - loss: 0.1035 - accuracy: 0.9872 - val_loss: 0.7108 - val_accuracy: 0.7500\n",
            "Epoch 94/100\n",
            "3/3 [==============================] - 0s 43ms/step - loss: 0.3690 - accuracy: 0.8590 - val_loss: 2.3487 - val_accuracy: 0.4500\n",
            "Epoch 95/100\n",
            "3/3 [==============================] - 0s 40ms/step - loss: 0.3532 - accuracy: 0.8846 - val_loss: 0.6566 - val_accuracy: 0.6500\n",
            "Epoch 96/100\n",
            "3/3 [==============================] - 0s 41ms/step - loss: 0.0889 - accuracy: 1.0000 - val_loss: 0.7330 - val_accuracy: 0.7000\n",
            "Epoch 97/100\n",
            "3/3 [==============================] - 0s 36ms/step - loss: 0.0871 - accuracy: 1.0000 - val_loss: 0.8017 - val_accuracy: 0.6500\n",
            "Epoch 98/100\n",
            "3/3 [==============================] - 0s 37ms/step - loss: 0.0915 - accuracy: 1.0000 - val_loss: 0.7398 - val_accuracy: 0.7000\n",
            "Epoch 99/100\n",
            "3/3 [==============================] - 0s 42ms/step - loss: 0.0782 - accuracy: 1.0000 - val_loss: 0.6882 - val_accuracy: 0.7000\n",
            "Epoch 100/100\n",
            "3/3 [==============================] - 0s 42ms/step - loss: 0.0768 - accuracy: 1.0000 - val_loss: 0.8208 - val_accuracy: 0.6500\n"
          ]
        }
      ]
    },
    {
      "cell_type": "code",
      "source": [
        "N = np.arange(0, max_epochs)\n",
        "plt.style.use(\"ggplot\")\n",
        "plt.figure()\n",
        "plt.plot(N, H.history[\"loss\"], label=\"train_loss\")\n",
        "plt.plot(N, H.history[\"val_loss\"], label=\"val_loss\")\n",
        "#plt.plot(N, H.history[\"accuracy\"], label=\"train_acc\")\n",
        "#plt.plot(N, H.history[\"val_accuracy\"], label=\"val_acc\")\n",
        "plt.xlabel(\"Epoch #\")\n",
        "plt.legend()\n",
        "plt.show()"
      ],
      "metadata": {
        "colab": {
          "base_uri": "https://localhost:8080/",
          "height": 282
        },
        "id": "DwbZzjXRivEl",
        "outputId": "e1a34b08-3682-473c-80d6-8f63268f6ce2"
      },
      "execution_count": 17,
      "outputs": [
        {
          "output_type": "display_data",
          "data": {
            "image/png": "[encoded data removed]",
            "text/plain": [
              "<Figure size 432x288 with 1 Axes>"
            ]
          },
          "metadata": {}
        }
      ]
    },
    {
      "cell_type": "code",
      "source": [
        "# menghitung nilai akurasi model terhadap data test\n",
        "predictions = model.predict(x_test, batch_size=32)\n",
        "target = (predictions > 0.5).astype(np.int)\n",
        "print(classification_report(y_test, target, target_names=label_list))"
      ],
      "metadata": {
        "colab": {
          "base_uri": "https://localhost:8080/"
        },
        "id": "AjwOcWoiiwwQ",
        "outputId": "c95a131e-06c4-4ec5-d3f8-087d3514a9dc"
      },
      "execution_count": 18,
      "outputs": [
        {
          "output_type": "stream",
          "name": "stdout",
          "text": [
            "                    precision    recall  f1-score   support\n",
            "\n",
            "agapornispersonata       0.78      0.58      0.67        12\n",
            "  agapornistaranta       0.55      0.75      0.63         8\n",
            "\n",
            "          accuracy                           0.65        20\n",
            "         macro avg       0.66      0.67      0.65        20\n",
            "      weighted avg       0.68      0.65      0.65        20\n",
            "\n"
          ]
        }
      ]
    },
    {
      "cell_type": "code",
      "source": [
        "# uji model menggunakan image lain\n",
        "queryPath = imagePaths+'/agapornispersonata/agapornispersonata1.jpg'\n",
        "query = cv2.imread(queryPath)\n",
        "output = query.copy()\n",
        "query = cv2.resize(query, (32, 32))\n",
        "q = []\n",
        "q.append(query)\n",
        "q = np.array(q, dtype='float') / 255.0\n",
        "\n",
        "q_pred = model.predict(q)\n",
        "print(q_pred)"
      ],
      "metadata": {
        "colab": {
          "base_uri": "https://localhost:8080/"
        },
        "id": "Kfr-kNGJiyGQ",
        "outputId": "03b2230c-35c8-43b8-9b11-ae6a0f3e433d"
      },
      "execution_count": 20,
      "outputs": [
        {
          "output_type": "stream",
          "name": "stdout",
          "text": [
            "[[0.14914933]]\n"
          ]
        }
      ]
    },
    {
      "cell_type": "code",
      "source": [
        "if q_pred<=0.5 :\n",
        "    target = \"agapornispersonata\"\n",
        "else :\n",
        "    target = \"agapornistaranta\"\n",
        "\n",
        "print(target)\n",
        "# text = \"{}\".format(target)\n",
        "# cv2.putText(output, text, (10, 30), cv2.FONT_HERSHEY_SIMPLEX, 0.7, (0, 0, 255), 2)\n",
        " \n",
        "# # menampilkan output image\n",
        "# cv2.imshow('Output', output)\n",
        "# cv2.waitKey() # image tidak akan diclose,sebelum user menekan sembarang tombol\n",
        "# cv2.destroyWindow('Output') # image akan diclose"
      ],
      "metadata": {
        "colab": {
          "base_uri": "https://localhost:8080/"
        },
        "id": "3dv9ioTUizoL",
        "outputId": "6b83f850-0081-44d2-eb32-eb4643bfcc72"
      },
      "execution_count": 22,
      "outputs": [
        {
          "output_type": "stream",
          "name": "stdout",
          "text": [
            "agapornispersonata\n"
          ]
        }
      ]
    },
    {
      "cell_type": "code",
      "source": [
        "model.save('lovebird.h5')"
      ],
      "metadata": {
        "id": "LEoUme2Ai1EG"
      },
      "execution_count": 24,
      "outputs": []
    }
  ]
}