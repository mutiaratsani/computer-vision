{
  "nbformat": 4,
  "nbformat_minor": 0,
  "metadata": {
    "colab": {
      "name": "create_cnn_make_model.ipynb",
      "provenance": [],
      "collapsed_sections": [],
      "include_colab_link": true
    },
    "kernelspec": {
      "name": "python3",
      "display_name": "Python 3"
    },
    "language_info": {
      "name": "python"
    }
  },
  "cells": [
    {
      "cell_type": "markdown",
      "metadata": {
        "id": "view-in-github",
        "colab_type": "text"
      },
      "source": [
        "<a href=\"https://colab.research.google.com/github/mutiaratsani/computer-vision/blob/main/create_cnn_make_model.ipynb\" target=\"_parent\"><img src=\"https://colab.research.google.com/assets/colab-badge.svg\" alt=\"Open In Colab\"/></a>"
      ]
    },
    {
      "cell_type": "code",
      "execution_count": null,
      "metadata": {
        "id": "6AlhDL6YiaPq"
      },
      "outputs": [],
      "source": [
        "from sklearn.model_selection import train_test_split\n",
        "from sklearn.preprocessing import LabelEncoder\n",
        "from sklearn.metrics import classification_report\n",
        "from tensorflow.keras.models import Sequential\n",
        "from tensorflow.keras.layers import Flatten, Dense\n",
        "from tensorflow.keras.optimizers import SGD\n",
        "import numpy as np\n",
        "import cv2\n",
        "import glob\n",
        "import matplotlib.pyplot as plt\n",
        "import zipfile"
      ]
    },
    {
      "cell_type": "code",
      "source": [
        "!wget --load-cookies /tmp/cookies.txt \"https://docs.google.com/uc?export=download&confirm=$(wget --quiet --save-cookies /tmp/cookies.txt --keep-session-cookies --no-check-certificate 'https://docs.google.com/uc?export=download&id=1rysqzptTqz6-2BEeZcxNUqYItxH9jxQS' -O- | sed -rn 's/.confirm=([0-9A-Za-z_]+)./\\1\\n/p')&id=1rysqzptTqz6-2BEeZcxNUqYItxH9jxQS\" -O /tmp/dataset.zip && rm -rf /tmp/cookies.txt"
      ],
      "metadata": {
        "colab": {
          "base_uri": "https://localhost:8080/"
        },
        "id": "8-YjqPPdm57P",
        "outputId": "9beb13f8-2cec-4182-8db1-1c48b60acd19"
      },
      "execution_count": null,
      "outputs": [
        {
          "output_type": "stream",
          "name": "stdout",
          "text": [
            "--2022-01-14 03:53:29--  https://docs.google.com/uc?export=download&confirm=&id=1rysqzptTqz6-2BEeZcxNUqYItxH9jxQS\n",
            "Resolving docs.google.com (docs.google.com)... 74.125.137.139, 74.125.137.100, 74.125.137.138, ...\n",
            "Connecting to docs.google.com (docs.google.com)|74.125.137.139|:443... connected.\n",
            "HTTP request sent, awaiting response... 302 Moved Temporarily\n",
            "Location: https://doc-00-68-docs.googleusercontent.com/docs/securesc/nkb6ej9i9c152i5loa99f6kaad8rm51k/iod9jfnp31pnsk1karvuo6j6dhfjnrvm/1642132350000/05200325421108249014/02572093810601710111Z/1rysqzptTqz6-2BEeZcxNUqYItxH9jxQS?e=download [following]\n",
            "--2022-01-14 03:53:30--  https://doc-00-68-docs.googleusercontent.com/docs/securesc/nkb6ej9i9c152i5loa99f6kaad8rm51k/iod9jfnp31pnsk1karvuo6j6dhfjnrvm/1642132350000/05200325421108249014/02572093810601710111Z/1rysqzptTqz6-2BEeZcxNUqYItxH9jxQS?e=download\n",
            "Resolving doc-00-68-docs.googleusercontent.com (doc-00-68-docs.googleusercontent.com)... 142.250.141.132, 2607:f8b0:4023:c0b::84\n",
            "Connecting to doc-00-68-docs.googleusercontent.com (doc-00-68-docs.googleusercontent.com)|142.250.141.132|:443... connected.\n",
            "HTTP request sent, awaiting response... 302 Found\n",
            "Location: https://docs.google.com/nonceSigner?nonce=smqt3sv6o8odu&continue=https://doc-00-68-docs.googleusercontent.com/docs/securesc/nkb6ej9i9c152i5loa99f6kaad8rm51k/iod9jfnp31pnsk1karvuo6j6dhfjnrvm/1642132350000/05200325421108249014/02572093810601710111Z/1rysqzptTqz6-2BEeZcxNUqYItxH9jxQS?e%3Ddownload&hash=5uont0oegj9dubt68cijer7rtiggqfo9 [following]\n",
            "--2022-01-14 03:53:30--  https://docs.google.com/nonceSigner?nonce=smqt3sv6o8odu&continue=https://doc-00-68-docs.googleusercontent.com/docs/securesc/nkb6ej9i9c152i5loa99f6kaad8rm51k/iod9jfnp31pnsk1karvuo6j6dhfjnrvm/1642132350000/05200325421108249014/02572093810601710111Z/1rysqzptTqz6-2BEeZcxNUqYItxH9jxQS?e%3Ddownload&hash=5uont0oegj9dubt68cijer7rtiggqfo9\n",
            "Connecting to docs.google.com (docs.google.com)|74.125.137.139|:443... connected.\n",
            "HTTP request sent, awaiting response... 302 Found\n",
            "Location: https://doc-00-68-docs.googleusercontent.com/docs/securesc/nkb6ej9i9c152i5loa99f6kaad8rm51k/iod9jfnp31pnsk1karvuo6j6dhfjnrvm/1642132350000/05200325421108249014/02572093810601710111Z/1rysqzptTqz6-2BEeZcxNUqYItxH9jxQS?e=download&nonce=smqt3sv6o8odu&user=02572093810601710111Z&hash=n13qb6u16e4f3gdu2uh32udj0tj5geh8 [following]\n",
            "--2022-01-14 03:53:30--  https://doc-00-68-docs.googleusercontent.com/docs/securesc/nkb6ej9i9c152i5loa99f6kaad8rm51k/iod9jfnp31pnsk1karvuo6j6dhfjnrvm/1642132350000/05200325421108249014/02572093810601710111Z/1rysqzptTqz6-2BEeZcxNUqYItxH9jxQS?e=download&nonce=smqt3sv6o8odu&user=02572093810601710111Z&hash=n13qb6u16e4f3gdu2uh32udj0tj5geh8\n",
            "Connecting to doc-00-68-docs.googleusercontent.com (doc-00-68-docs.googleusercontent.com)|142.250.141.132|:443... connected.\n",
            "HTTP request sent, awaiting response... 200 OK\n",
            "Length: 9241112 (8.8M) [application/x-zip-compressed]\n",
            "Saving to: ‘/tmp/dataset.zip’\n",
            "\n",
            "/tmp/dataset.zip    100%[===================>]   8.81M  36.7MB/s    in 0.2s    \n",
            "\n",
            "2022-01-14 03:53:31 (36.7 MB/s) - ‘/tmp/dataset.zip’ saved [9241112/9241112]\n",
            "\n"
          ]
        }
      ]
    },
    {
      "cell_type": "code",
      "source": [
        "local_zip = '/tmp/dataset.zip'\n",
        "zip_ref = zipfile.ZipFile(local_zip, 'r')\n",
        "zip_ref.extractall('/tmp')\n",
        "zip_ref.close()"
      ],
      "metadata": {
        "id": "N9PGdxVHnNzu"
      },
      "execution_count": null,
      "outputs": []
    },
    {
      "cell_type": "code",
      "source": [
        "imagePaths = '/tmp/dataset/'\n",
        "label_list = ['belimbingwuluh', 'jeruknipis']\n",
        "data = []\n",
        "labels = []"
      ],
      "metadata": {
        "id": "pzCywf8xia6x"
      },
      "execution_count": null,
      "outputs": []
    },
    {
      "cell_type": "code",
      "source": [
        "for label in label_list:\n",
        "    for imagePath in glob.glob(imagePaths+label+'/*.png'):\n",
        "        #print(imagePath)\n",
        "        image = cv2.imread(imagePath)\n",
        "        image = cv2.resize(image, (32, 32))\n",
        "        data.append(image)\n",
        "        labels.append(label)"
      ],
      "metadata": {
        "id": "hUR7B9JSicnO"
      },
      "execution_count": null,
      "outputs": []
    },
    {
      "cell_type": "code",
      "source": [
        "np.array(data).shape"
      ],
      "metadata": {
        "colab": {
          "base_uri": "https://localhost:8080/"
        },
        "id": "XsB81I39ieCo",
        "outputId": "f21e63ff-04cd-444a-99a8-dfa0f3b8213e"
      },
      "execution_count": null,
      "outputs": [
        {
          "output_type": "execute_result",
          "data": {
            "text/plain": [
              "(100, 32, 32, 3)"
            ]
          },
          "metadata": {},
          "execution_count": 19
        }
      ]
    },
    {
      "cell_type": "code",
      "source": [
        "# ubah type data dari list menjadi array\n",
        "# ubah nilai dari tiap pixel menjadi range [0..1]\n",
        "data = np.array(data, dtype='float') / 255.0\n",
        "labels = np.array(labels)"
      ],
      "metadata": {
        "id": "cEtGsoJLifQ4"
      },
      "execution_count": null,
      "outputs": []
    },
    {
      "cell_type": "code",
      "source": [
        "print(labels)"
      ],
      "metadata": {
        "colab": {
          "base_uri": "https://localhost:8080/"
        },
        "id": "11AWkIDaihB4",
        "outputId": "cd741582-78f4-4153-b845-59f81b503e15"
      },
      "execution_count": null,
      "outputs": [
        {
          "output_type": "stream",
          "name": "stdout",
          "text": [
            "['belimbingwuluh' 'belimbingwuluh' 'belimbingwuluh' 'belimbingwuluh'\n",
            " 'belimbingwuluh' 'belimbingwuluh' 'belimbingwuluh' 'belimbingwuluh'\n",
            " 'belimbingwuluh' 'belimbingwuluh' 'belimbingwuluh' 'belimbingwuluh'\n",
            " 'belimbingwuluh' 'belimbingwuluh' 'belimbingwuluh' 'belimbingwuluh'\n",
            " 'belimbingwuluh' 'belimbingwuluh' 'belimbingwuluh' 'belimbingwuluh'\n",
            " 'belimbingwuluh' 'belimbingwuluh' 'belimbingwuluh' 'belimbingwuluh'\n",
            " 'belimbingwuluh' 'belimbingwuluh' 'belimbingwuluh' 'belimbingwuluh'\n",
            " 'belimbingwuluh' 'belimbingwuluh' 'belimbingwuluh' 'belimbingwuluh'\n",
            " 'belimbingwuluh' 'belimbingwuluh' 'belimbingwuluh' 'belimbingwuluh'\n",
            " 'belimbingwuluh' 'belimbingwuluh' 'belimbingwuluh' 'belimbingwuluh'\n",
            " 'belimbingwuluh' 'belimbingwuluh' 'belimbingwuluh' 'belimbingwuluh'\n",
            " 'belimbingwuluh' 'belimbingwuluh' 'belimbingwuluh' 'belimbingwuluh'\n",
            " 'belimbingwuluh' 'belimbingwuluh' 'jeruknipis' 'jeruknipis' 'jeruknipis'\n",
            " 'jeruknipis' 'jeruknipis' 'jeruknipis' 'jeruknipis' 'jeruknipis'\n",
            " 'jeruknipis' 'jeruknipis' 'jeruknipis' 'jeruknipis' 'jeruknipis'\n",
            " 'jeruknipis' 'jeruknipis' 'jeruknipis' 'jeruknipis' 'jeruknipis'\n",
            " 'jeruknipis' 'jeruknipis' 'jeruknipis' 'jeruknipis' 'jeruknipis'\n",
            " 'jeruknipis' 'jeruknipis' 'jeruknipis' 'jeruknipis' 'jeruknipis'\n",
            " 'jeruknipis' 'jeruknipis' 'jeruknipis' 'jeruknipis' 'jeruknipis'\n",
            " 'jeruknipis' 'jeruknipis' 'jeruknipis' 'jeruknipis' 'jeruknipis'\n",
            " 'jeruknipis' 'jeruknipis' 'jeruknipis' 'jeruknipis' 'jeruknipis'\n",
            " 'jeruknipis' 'jeruknipis' 'jeruknipis' 'jeruknipis' 'jeruknipis'\n",
            " 'jeruknipis' 'jeruknipis']\n"
          ]
        }
      ]
    },
    {
      "cell_type": "code",
      "source": [
        "# ubah nilai dari labels menjadi binary\n",
        "lb = LabelEncoder()\n",
        "labels = lb.fit_transform(labels)\n",
        "print(labels)"
      ],
      "metadata": {
        "colab": {
          "base_uri": "https://localhost:8080/"
        },
        "id": "P_sUE094ij2P",
        "outputId": "3abc09b2-2d52-4f72-f301-054850a06499"
      },
      "execution_count": null,
      "outputs": [
        {
          "output_type": "stream",
          "name": "stdout",
          "text": [
            "[0 0 0 0 0 0 0 0 0 0 0 0 0 0 0 0 0 0 0 0 0 0 0 0 0 0 0 0 0 0 0 0 0 0 0 0 0\n",
            " 0 0 0 0 0 0 0 0 0 0 0 0 0 1 1 1 1 1 1 1 1 1 1 1 1 1 1 1 1 1 1 1 1 1 1 1 1\n",
            " 1 1 1 1 1 1 1 1 1 1 1 1 1 1 1 1 1 1 1 1 1 1 1 1 1 1]\n"
          ]
        }
      ]
    },
    {
      "cell_type": "code",
      "source": [
        "x_train, x_test, y_train, y_test = train_test_split(data, labels, test_size=0.2, random_state=42)"
      ],
      "metadata": {
        "id": "9eVxqYWuikbe"
      },
      "execution_count": null,
      "outputs": []
    },
    {
      "cell_type": "code",
      "source": [
        "print('Ukuran data train =', x_train.shape)\n",
        "print('Ukuran data test =', x_test.shape)"
      ],
      "metadata": {
        "colab": {
          "base_uri": "https://localhost:8080/"
        },
        "id": "fVmxL7jWikg4",
        "outputId": "a17c8957-0d4f-4441-dea5-da4d900a10f0"
      },
      "execution_count": null,
      "outputs": [
        {
          "output_type": "stream",
          "name": "stdout",
          "text": [
            "Ukuran data train = (80, 32, 32, 3)\n",
            "Ukuran data test = (20, 32, 32, 3)\n"
          ]
        }
      ]
    },
    {
      "cell_type": "code",
      "source": [
        "model = Sequential()\n",
        "model.add(Flatten(input_shape=(32,32,3)))\n",
        "model.add(Dense(1024, activation=\"relu\"))\n",
        "model.add(Dense(1024, activation=\"relu\"))\n",
        "model.add(Dense(1, activation=\"sigmoid\"))"
      ],
      "metadata": {
        "id": "R2YMijrainqB"
      },
      "execution_count": null,
      "outputs": []
    },
    {
      "cell_type": "code",
      "source": [
        "model.summary()"
      ],
      "metadata": {
        "colab": {
          "base_uri": "https://localhost:8080/"
        },
        "id": "AiUNddRLiptp",
        "outputId": "a4d2a760-c65c-4141-dcc9-066ab63bbed7"
      },
      "execution_count": null,
      "outputs": [
        {
          "output_type": "stream",
          "name": "stdout",
          "text": [
            "Model: \"sequential\"\n",
            "_________________________________________________________________\n",
            " Layer (type)                Output Shape              Param #   \n",
            "=================================================================\n",
            " flatten (Flatten)           (None, 3072)              0         \n",
            "                                                                 \n",
            " dense (Dense)               (None, 1024)              3146752   \n",
            "                                                                 \n",
            " dense_1 (Dense)             (None, 1024)              1049600   \n",
            "                                                                 \n",
            " dense_2 (Dense)             (None, 1)                 1025      \n",
            "                                                                 \n",
            "=================================================================\n",
            "Total params: 4,197,377\n",
            "Trainable params: 4,197,377\n",
            "Non-trainable params: 0\n",
            "_________________________________________________________________\n"
          ]
        }
      ]
    },
    {
      "cell_type": "code",
      "source": [
        "# tentukan hyperparameter\n",
        "lr = 0.01\n",
        "max_epochs = 100\n",
        "opt_funct = SGD(learning_rate=lr)"
      ],
      "metadata": {
        "id": "_CAaaSO3irHp"
      },
      "execution_count": null,
      "outputs": []
    },
    {
      "cell_type": "code",
      "source": [
        "# compile arsitektur yang telah dibuat\n",
        "model.compile(loss = 'binary_crossentropy', \n",
        "              optimizer = opt_funct, \n",
        "              metrics = ['accuracy'])"
      ],
      "metadata": {
        "id": "6Q4iWoGjisc_"
      },
      "execution_count": null,
      "outputs": []
    },
    {
      "cell_type": "code",
      "source": [
        "H = model.fit(x_train, y_train, validation_data=(x_test, y_test), \n",
        "          epochs=max_epochs, batch_size=32)"
      ],
      "metadata": {
        "colab": {
          "base_uri": "https://localhost:8080/"
        },
        "id": "EB2ZH-2SitzR",
        "outputId": "8555fe2c-5873-4603-957e-fc1ef466469e"
      },
      "execution_count": null,
      "outputs": [
        {
          "output_type": "stream",
          "name": "stdout",
          "text": [
            "Epoch 1/100\n",
            "3/3 [==============================] - 1s 128ms/step - loss: 1.2508 - accuracy: 0.4375 - val_loss: 0.7796 - val_accuracy: 0.4000\n",
            "Epoch 2/100\n",
            "3/3 [==============================] - 0s 34ms/step - loss: 0.6146 - accuracy: 0.6000 - val_loss: 0.6685 - val_accuracy: 0.4000\n",
            "Epoch 3/100\n",
            "3/3 [==============================] - 0s 35ms/step - loss: 0.9177 - accuracy: 0.4750 - val_loss: 0.8206 - val_accuracy: 0.6000\n",
            "Epoch 4/100\n",
            "3/3 [==============================] - 0s 34ms/step - loss: 1.2053 - accuracy: 0.3750 - val_loss: 0.8344 - val_accuracy: 0.4000\n",
            "Epoch 5/100\n",
            "3/3 [==============================] - 0s 34ms/step - loss: 0.6486 - accuracy: 0.5375 - val_loss: 0.4735 - val_accuracy: 0.8000\n",
            "Epoch 6/100\n",
            "3/3 [==============================] - 0s 34ms/step - loss: 0.4562 - accuracy: 0.8250 - val_loss: 0.4793 - val_accuracy: 0.7500\n",
            "Epoch 7/100\n",
            "3/3 [==============================] - 0s 35ms/step - loss: 0.4435 - accuracy: 0.8000 - val_loss: 0.4232 - val_accuracy: 0.8000\n",
            "Epoch 8/100\n",
            "3/3 [==============================] - 0s 33ms/step - loss: 0.5462 - accuracy: 0.6875 - val_loss: 0.8288 - val_accuracy: 0.4000\n",
            "Epoch 9/100\n",
            "3/3 [==============================] - 0s 40ms/step - loss: 0.5375 - accuracy: 0.6750 - val_loss: 0.4393 - val_accuracy: 0.8000\n",
            "Epoch 10/100\n",
            "3/3 [==============================] - 0s 36ms/step - loss: 0.3533 - accuracy: 0.9250 - val_loss: 0.4444 - val_accuracy: 0.7500\n",
            "Epoch 11/100\n",
            "3/3 [==============================] - 0s 36ms/step - loss: 0.3080 - accuracy: 0.9375 - val_loss: 0.3765 - val_accuracy: 0.9000\n",
            "Epoch 12/100\n",
            "3/3 [==============================] - 0s 36ms/step - loss: 0.3070 - accuracy: 0.9250 - val_loss: 0.3507 - val_accuracy: 0.9000\n",
            "Epoch 13/100\n",
            "3/3 [==============================] - 0s 35ms/step - loss: 0.2854 - accuracy: 0.9375 - val_loss: 0.3177 - val_accuracy: 0.8500\n",
            "Epoch 14/100\n",
            "3/3 [==============================] - 0s 36ms/step - loss: 0.2721 - accuracy: 0.9375 - val_loss: 0.3187 - val_accuracy: 0.8500\n",
            "Epoch 15/100\n",
            "3/3 [==============================] - 0s 37ms/step - loss: 0.3291 - accuracy: 0.8500 - val_loss: 0.6274 - val_accuracy: 0.5000\n",
            "Epoch 16/100\n",
            "3/3 [==============================] - 0s 35ms/step - loss: 0.7639 - accuracy: 0.5375 - val_loss: 0.3165 - val_accuracy: 0.9000\n",
            "Epoch 17/100\n",
            "3/3 [==============================] - 0s 34ms/step - loss: 0.4268 - accuracy: 0.7625 - val_loss: 0.5738 - val_accuracy: 0.7000\n",
            "Epoch 18/100\n",
            "3/3 [==============================] - 0s 36ms/step - loss: 0.3059 - accuracy: 0.8750 - val_loss: 0.3578 - val_accuracy: 0.9000\n",
            "Epoch 19/100\n",
            "3/3 [==============================] - 0s 35ms/step - loss: 0.2372 - accuracy: 0.9375 - val_loss: 0.2807 - val_accuracy: 0.9000\n",
            "Epoch 20/100\n",
            "3/3 [==============================] - 0s 38ms/step - loss: 0.2116 - accuracy: 0.9500 - val_loss: 0.2784 - val_accuracy: 0.9000\n",
            "Epoch 21/100\n",
            "3/3 [==============================] - 0s 35ms/step - loss: 0.2171 - accuracy: 0.9625 - val_loss: 0.3918 - val_accuracy: 0.9000\n",
            "Epoch 22/100\n",
            "3/3 [==============================] - 0s 35ms/step - loss: 0.3201 - accuracy: 0.8500 - val_loss: 0.3842 - val_accuracy: 0.8000\n",
            "Epoch 23/100\n",
            "3/3 [==============================] - 0s 35ms/step - loss: 0.2804 - accuracy: 0.8875 - val_loss: 0.3246 - val_accuracy: 0.9000\n",
            "Epoch 24/100\n",
            "3/3 [==============================] - 0s 36ms/step - loss: 0.2502 - accuracy: 0.9125 - val_loss: 0.3116 - val_accuracy: 0.8000\n",
            "Epoch 25/100\n",
            "3/3 [==============================] - 0s 34ms/step - loss: 0.1914 - accuracy: 0.9625 - val_loss: 0.2362 - val_accuracy: 0.9000\n",
            "Epoch 26/100\n",
            "3/3 [==============================] - 0s 35ms/step - loss: 0.1986 - accuracy: 0.9500 - val_loss: 0.2645 - val_accuracy: 0.8500\n",
            "Epoch 27/100\n",
            "3/3 [==============================] - 0s 36ms/step - loss: 0.1892 - accuracy: 0.9625 - val_loss: 0.6079 - val_accuracy: 0.7000\n",
            "Epoch 28/100\n",
            "3/3 [==============================] - 0s 43ms/step - loss: 0.3613 - accuracy: 0.8125 - val_loss: 0.2185 - val_accuracy: 0.9500\n",
            "Epoch 29/100\n",
            "3/3 [==============================] - 0s 36ms/step - loss: 0.1657 - accuracy: 0.9625 - val_loss: 0.2136 - val_accuracy: 0.9500\n",
            "Epoch 30/100\n",
            "3/3 [==============================] - 0s 37ms/step - loss: 0.1595 - accuracy: 0.9500 - val_loss: 0.2421 - val_accuracy: 0.9000\n",
            "Epoch 31/100\n",
            "3/3 [==============================] - 0s 40ms/step - loss: 0.1626 - accuracy: 0.9500 - val_loss: 0.2426 - val_accuracy: 0.9000\n",
            "Epoch 32/100\n",
            "3/3 [==============================] - 0s 36ms/step - loss: 0.2468 - accuracy: 0.8750 - val_loss: 0.2051 - val_accuracy: 0.8500\n",
            "Epoch 33/100\n",
            "3/3 [==============================] - 0s 35ms/step - loss: 0.1400 - accuracy: 0.9625 - val_loss: 0.2037 - val_accuracy: 0.9000\n",
            "Epoch 34/100\n",
            "3/3 [==============================] - 0s 34ms/step - loss: 0.1406 - accuracy: 0.9625 - val_loss: 0.3945 - val_accuracy: 0.8000\n",
            "Epoch 35/100\n",
            "3/3 [==============================] - 0s 39ms/step - loss: 0.2190 - accuracy: 0.9250 - val_loss: 0.2042 - val_accuracy: 0.8500\n",
            "Epoch 36/100\n",
            "3/3 [==============================] - 0s 36ms/step - loss: 0.1351 - accuracy: 0.9500 - val_loss: 0.2233 - val_accuracy: 0.9000\n",
            "Epoch 37/100\n",
            "3/3 [==============================] - 0s 35ms/step - loss: 0.1433 - accuracy: 0.9500 - val_loss: 0.4560 - val_accuracy: 0.8000\n",
            "Epoch 38/100\n",
            "3/3 [==============================] - 0s 36ms/step - loss: 0.3673 - accuracy: 0.8250 - val_loss: 0.3929 - val_accuracy: 0.9000\n",
            "Epoch 39/100\n",
            "3/3 [==============================] - 0s 35ms/step - loss: 0.2910 - accuracy: 0.8625 - val_loss: 0.1859 - val_accuracy: 0.9500\n",
            "Epoch 40/100\n",
            "3/3 [==============================] - 0s 35ms/step - loss: 0.1470 - accuracy: 0.9500 - val_loss: 0.1990 - val_accuracy: 0.8500\n",
            "Epoch 41/100\n",
            "3/3 [==============================] - 0s 35ms/step - loss: 0.1749 - accuracy: 0.9125 - val_loss: 0.2302 - val_accuracy: 0.9000\n",
            "Epoch 42/100\n",
            "3/3 [==============================] - 0s 36ms/step - loss: 0.1798 - accuracy: 0.9500 - val_loss: 0.2265 - val_accuracy: 0.9000\n",
            "Epoch 43/100\n",
            "3/3 [==============================] - 0s 38ms/step - loss: 0.1454 - accuracy: 0.9625 - val_loss: 0.1848 - val_accuracy: 0.9500\n",
            "Epoch 44/100\n",
            "3/3 [==============================] - 0s 41ms/step - loss: 0.1769 - accuracy: 0.9250 - val_loss: 0.2793 - val_accuracy: 0.8500\n",
            "Epoch 45/100\n",
            "3/3 [==============================] - 0s 36ms/step - loss: 0.1235 - accuracy: 0.9750 - val_loss: 0.1653 - val_accuracy: 0.9500\n",
            "Epoch 46/100\n",
            "3/3 [==============================] - 0s 36ms/step - loss: 0.1160 - accuracy: 0.9750 - val_loss: 0.1838 - val_accuracy: 0.8500\n",
            "Epoch 47/100\n",
            "3/3 [==============================] - 0s 45ms/step - loss: 0.1128 - accuracy: 0.9625 - val_loss: 0.1791 - val_accuracy: 0.9500\n",
            "Epoch 48/100\n",
            "3/3 [==============================] - 0s 35ms/step - loss: 0.1304 - accuracy: 0.9375 - val_loss: 0.2726 - val_accuracy: 0.9000\n",
            "Epoch 49/100\n",
            "3/3 [==============================] - 0s 38ms/step - loss: 0.2344 - accuracy: 0.8875 - val_loss: 0.1734 - val_accuracy: 0.9000\n",
            "Epoch 50/100\n",
            "3/3 [==============================] - 0s 35ms/step - loss: 0.1034 - accuracy: 0.9625 - val_loss: 0.1696 - val_accuracy: 0.9500\n",
            "Epoch 51/100\n",
            "3/3 [==============================] - 0s 41ms/step - loss: 0.1027 - accuracy: 1.0000 - val_loss: 0.3066 - val_accuracy: 0.8500\n",
            "Epoch 52/100\n",
            "3/3 [==============================] - 0s 36ms/step - loss: 0.1405 - accuracy: 0.9500 - val_loss: 0.5650 - val_accuracy: 0.8000\n",
            "Epoch 53/100\n",
            "3/3 [==============================] - 0s 35ms/step - loss: 0.2333 - accuracy: 0.8750 - val_loss: 0.1670 - val_accuracy: 0.9500\n",
            "Epoch 54/100\n",
            "3/3 [==============================] - 0s 38ms/step - loss: 0.0990 - accuracy: 0.9750 - val_loss: 0.1975 - val_accuracy: 0.9000\n",
            "Epoch 55/100\n",
            "3/3 [==============================] - 0s 35ms/step - loss: 0.0992 - accuracy: 0.9750 - val_loss: 0.2541 - val_accuracy: 0.8500\n",
            "Epoch 56/100\n",
            "3/3 [==============================] - 0s 46ms/step - loss: 0.1137 - accuracy: 0.9750 - val_loss: 0.1576 - val_accuracy: 0.9500\n",
            "Epoch 57/100\n",
            "3/3 [==============================] - 0s 35ms/step - loss: 0.0921 - accuracy: 0.9750 - val_loss: 0.1577 - val_accuracy: 0.9500\n",
            "Epoch 58/100\n",
            "3/3 [==============================] - 0s 36ms/step - loss: 0.1226 - accuracy: 0.9500 - val_loss: 0.3010 - val_accuracy: 0.8500\n",
            "Epoch 59/100\n",
            "3/3 [==============================] - 0s 36ms/step - loss: 0.1485 - accuracy: 0.9625 - val_loss: 0.1571 - val_accuracy: 0.9500\n",
            "Epoch 60/100\n",
            "3/3 [==============================] - 0s 34ms/step - loss: 0.0960 - accuracy: 0.9625 - val_loss: 0.1551 - val_accuracy: 0.9500\n",
            "Epoch 61/100\n",
            "3/3 [==============================] - 0s 34ms/step - loss: 0.0952 - accuracy: 0.9750 - val_loss: 0.1672 - val_accuracy: 0.9500\n",
            "Epoch 62/100\n",
            "3/3 [==============================] - 0s 34ms/step - loss: 0.1212 - accuracy: 0.9750 - val_loss: 0.4067 - val_accuracy: 0.9000\n",
            "Epoch 63/100\n",
            "3/3 [==============================] - 0s 37ms/step - loss: 0.2342 - accuracy: 0.9250 - val_loss: 0.1687 - val_accuracy: 0.8500\n",
            "Epoch 64/100\n",
            "3/3 [==============================] - 0s 36ms/step - loss: 0.1171 - accuracy: 0.9250 - val_loss: 0.1639 - val_accuracy: 0.9500\n",
            "Epoch 65/100\n",
            "3/3 [==============================] - 0s 35ms/step - loss: 0.0845 - accuracy: 0.9750 - val_loss: 0.1670 - val_accuracy: 0.8500\n",
            "Epoch 66/100\n",
            "3/3 [==============================] - 0s 43ms/step - loss: 0.0948 - accuracy: 0.9625 - val_loss: 0.1512 - val_accuracy: 0.9500\n",
            "Epoch 67/100\n",
            "3/3 [==============================] - 0s 36ms/step - loss: 0.1159 - accuracy: 0.9625 - val_loss: 0.1562 - val_accuracy: 0.9500\n",
            "Epoch 68/100\n",
            "3/3 [==============================] - 0s 34ms/step - loss: 0.0866 - accuracy: 0.9750 - val_loss: 0.1413 - val_accuracy: 0.9500\n",
            "Epoch 69/100\n",
            "3/3 [==============================] - 0s 36ms/step - loss: 0.1107 - accuracy: 0.9375 - val_loss: 0.2381 - val_accuracy: 0.8500\n",
            "Epoch 70/100\n",
            "3/3 [==============================] - 0s 35ms/step - loss: 0.0827 - accuracy: 0.9750 - val_loss: 0.2118 - val_accuracy: 0.9000\n",
            "Epoch 71/100\n",
            "3/3 [==============================] - 0s 41ms/step - loss: 0.1193 - accuracy: 0.9375 - val_loss: 0.1679 - val_accuracy: 0.9500\n",
            "Epoch 72/100\n",
            "3/3 [==============================] - 0s 34ms/step - loss: 0.1218 - accuracy: 0.9500 - val_loss: 0.1593 - val_accuracy: 0.9500\n",
            "Epoch 73/100\n",
            "3/3 [==============================] - 0s 34ms/step - loss: 0.0992 - accuracy: 0.9750 - val_loss: 0.1713 - val_accuracy: 0.9500\n",
            "Epoch 74/100\n",
            "3/3 [==============================] - 0s 34ms/step - loss: 0.0780 - accuracy: 1.0000 - val_loss: 0.1553 - val_accuracy: 0.8500\n",
            "Epoch 75/100\n",
            "3/3 [==============================] - 0s 45ms/step - loss: 0.0786 - accuracy: 0.9750 - val_loss: 0.1353 - val_accuracy: 0.9500\n",
            "Epoch 76/100\n",
            "3/3 [==============================] - 0s 35ms/step - loss: 0.0751 - accuracy: 0.9625 - val_loss: 0.3303 - val_accuracy: 0.9000\n",
            "Epoch 77/100\n",
            "3/3 [==============================] - 0s 42ms/step - loss: 0.3455 - accuracy: 0.8750 - val_loss: 0.1621 - val_accuracy: 0.9000\n",
            "Epoch 78/100\n",
            "3/3 [==============================] - 0s 35ms/step - loss: 0.0984 - accuracy: 0.9500 - val_loss: 0.1316 - val_accuracy: 0.9500\n",
            "Epoch 79/100\n",
            "3/3 [==============================] - 0s 35ms/step - loss: 0.0808 - accuracy: 0.9750 - val_loss: 0.2954 - val_accuracy: 0.9000\n",
            "Epoch 80/100\n",
            "3/3 [==============================] - 0s 34ms/step - loss: 0.2130 - accuracy: 0.9000 - val_loss: 0.2503 - val_accuracy: 0.8500\n",
            "Epoch 81/100\n",
            "3/3 [==============================] - 0s 35ms/step - loss: 0.0962 - accuracy: 0.9500 - val_loss: 0.1451 - val_accuracy: 0.9000\n",
            "Epoch 82/100\n",
            "3/3 [==============================] - 0s 38ms/step - loss: 0.0750 - accuracy: 0.9750 - val_loss: 0.1625 - val_accuracy: 0.9000\n",
            "Epoch 83/100\n",
            "3/3 [==============================] - 0s 34ms/step - loss: 0.1072 - accuracy: 0.9500 - val_loss: 0.4525 - val_accuracy: 0.9000\n",
            "Epoch 84/100\n",
            "3/3 [==============================] - 0s 35ms/step - loss: 0.3494 - accuracy: 0.8375 - val_loss: 0.1588 - val_accuracy: 0.9000\n",
            "Epoch 85/100\n",
            "3/3 [==============================] - 0s 41ms/step - loss: 0.0828 - accuracy: 0.9875 - val_loss: 0.2722 - val_accuracy: 0.8500\n",
            "Epoch 86/100\n",
            "3/3 [==============================] - 0s 39ms/step - loss: 0.1051 - accuracy: 0.9500 - val_loss: 0.2096 - val_accuracy: 0.9000\n",
            "Epoch 87/100\n",
            "3/3 [==============================] - 0s 34ms/step - loss: 0.1357 - accuracy: 0.9375 - val_loss: 0.1321 - val_accuracy: 0.9500\n",
            "Epoch 88/100\n",
            "3/3 [==============================] - 0s 35ms/step - loss: 0.0670 - accuracy: 0.9750 - val_loss: 0.1221 - val_accuracy: 0.9500\n",
            "Epoch 89/100\n",
            "3/3 [==============================] - 0s 34ms/step - loss: 0.0635 - accuracy: 0.9875 - val_loss: 0.1536 - val_accuracy: 0.9500\n",
            "Epoch 90/100\n",
            "3/3 [==============================] - 0s 40ms/step - loss: 0.0637 - accuracy: 0.9750 - val_loss: 0.1258 - val_accuracy: 0.9500\n",
            "Epoch 91/100\n",
            "3/3 [==============================] - 0s 35ms/step - loss: 0.0721 - accuracy: 0.9625 - val_loss: 0.1585 - val_accuracy: 0.9000\n",
            "Epoch 92/100\n",
            "3/3 [==============================] - 0s 35ms/step - loss: 0.0897 - accuracy: 0.9500 - val_loss: 0.1272 - val_accuracy: 0.9500\n",
            "Epoch 93/100\n",
            "3/3 [==============================] - 0s 42ms/step - loss: 0.0625 - accuracy: 1.0000 - val_loss: 0.1232 - val_accuracy: 0.9500\n",
            "Epoch 94/100\n",
            "3/3 [==============================] - 0s 42ms/step - loss: 0.0625 - accuracy: 0.9875 - val_loss: 0.1200 - val_accuracy: 0.9500\n",
            "Epoch 95/100\n",
            "3/3 [==============================] - 0s 42ms/step - loss: 0.0574 - accuracy: 0.9875 - val_loss: 0.1221 - val_accuracy: 0.9500\n",
            "Epoch 96/100\n",
            "3/3 [==============================] - 0s 35ms/step - loss: 0.0714 - accuracy: 0.9875 - val_loss: 0.1651 - val_accuracy: 0.9500\n",
            "Epoch 97/100\n",
            "3/3 [==============================] - 0s 36ms/step - loss: 0.0588 - accuracy: 0.9875 - val_loss: 0.1288 - val_accuracy: 0.9500\n",
            "Epoch 98/100\n",
            "3/3 [==============================] - 0s 35ms/step - loss: 0.0724 - accuracy: 0.9750 - val_loss: 0.1575 - val_accuracy: 0.9000\n",
            "Epoch 99/100\n",
            "3/3 [==============================] - 0s 36ms/step - loss: 0.1101 - accuracy: 0.9250 - val_loss: 0.1499 - val_accuracy: 0.9000\n",
            "Epoch 100/100\n",
            "3/3 [==============================] - 0s 34ms/step - loss: 0.0884 - accuracy: 0.9625 - val_loss: 0.1351 - val_accuracy: 0.9500\n"
          ]
        }
      ]
    },
    {
      "cell_type": "code",
      "source": [
        "N = np.arange(0, max_epochs)\n",
        "plt.style.use(\"ggplot\")\n",
        "plt.figure()\n",
        "plt.plot(N, H.history[\"loss\"], label=\"train_loss\")\n",
        "plt.plot(N, H.history[\"val_loss\"], label=\"val_loss\")\n",
        "#plt.plot(N, H.history[\"accuracy\"], label=\"train_acc\")\n",
        "#plt.plot(N, H.history[\"val_accuracy\"], label=\"val_acc\")\n",
        "plt.xlabel(\"Epoch #\")\n",
        "plt.legend()\n",
        "plt.show()"
      ],
      "metadata": {
        "colab": {
          "base_uri": "https://localhost:8080/",
          "height": 282
        },
        "id": "DwbZzjXRivEl",
        "outputId": "c2ef6b8c-7e9b-46a3-cc25-fd4bd5e80641"
      },
      "execution_count": null,
      "outputs": [
        {
          "output_type": "display_data",
          "data": {
            "image/png": "[encoded data removed]",
            "text/plain": [
              "<Figure size 432x288 with 1 Axes>"
            ]
          },
          "metadata": {}
        }
      ]
    },
    {
      "cell_type": "code",
      "source": [
        "# menghitung nilai akurasi model terhadap data test\n",
        "predictions = model.predict(x_test, batch_size=32)\n",
        "target = (predictions > 0.5).astype(np.int)\n",
        "print(classification_report(y_test, target, target_names=label_list))"
      ],
      "metadata": {
        "colab": {
          "base_uri": "https://localhost:8080/"
        },
        "id": "AjwOcWoiiwwQ",
        "outputId": "d967c9cc-2c99-4edf-9d84-7c1396d59b20"
      },
      "execution_count": null,
      "outputs": [
        {
          "output_type": "stream",
          "name": "stdout",
          "text": [
            "                precision    recall  f1-score   support\n",
            "\n",
            "belimbingwuluh       1.00      0.92      0.96        12\n",
            "    jeruknipis       0.89      1.00      0.94         8\n",
            "\n",
            "      accuracy                           0.95        20\n",
            "     macro avg       0.94      0.96      0.95        20\n",
            "  weighted avg       0.96      0.95      0.95        20\n",
            "\n"
          ]
        }
      ]
    },
    {
      "cell_type": "code",
      "source": [
        "# uji model menggunakan image lain\n",
        "queryPath = imagePaths+'/jeruknipis/jeruknipis (1).png'\n",
        "query = cv2.imread(queryPath)\n",
        "output = query.copy()\n",
        "query = cv2.resize(query, (32, 32))\n",
        "q = []\n",
        "q.append(query)\n",
        "q = np.array(q, dtype='float') / 255.0\n",
        "\n",
        "q_pred = model.predict(q)\n",
        "print(q_pred)"
      ],
      "metadata": {
        "colab": {
          "base_uri": "https://localhost:8080/"
        },
        "id": "Kfr-kNGJiyGQ",
        "outputId": "0bdf7420-fe9d-4921-d947-e9ea99175581"
      },
      "execution_count": null,
      "outputs": [
        {
          "output_type": "stream",
          "name": "stdout",
          "text": [
            "[[0.9834787]]\n"
          ]
        }
      ]
    },
    {
      "cell_type": "code",
      "source": [
        "if q_pred<=0.5 :\n",
        "    target = \"belimbingwuluh\"\n",
        "else :\n",
        "    target = \"jeruknipis\"\n",
        "\n",
        "print(target)\n",
        "# text = \"{}\".format(target)\n",
        "# cv2.putText(output, text, (10, 30), cv2.FONT_HERSHEY_SIMPLEX, 0.7, (0, 0, 255), 2)\n",
        " \n",
        "# # menampilkan output image\n",
        "# cv2.imshow('Output', output)\n",
        "# cv2.waitKey() # image tidak akan diclose,sebelum user menekan sembarang tombol\n",
        "# cv2.destroyWindow('Output') # image akan diclose"
      ],
      "metadata": {
        "colab": {
          "base_uri": "https://localhost:8080/"
        },
        "id": "3dv9ioTUizoL",
        "outputId": "91ab3530-f3d4-416c-e39c-38fcdc114b52"
      },
      "execution_count": null,
      "outputs": [
        {
          "output_type": "stream",
          "name": "stdout",
          "text": [
            "jeruknipis\n"
          ]
        }
      ]
    },
    {
      "cell_type": "code",
      "source": [
        "model.save('belimbingjeruk.h5')"
      ],
      "metadata": {
        "id": "LEoUme2Ai1EG"
      },
      "execution_count": null,
      "outputs": []
    }
  ]
}